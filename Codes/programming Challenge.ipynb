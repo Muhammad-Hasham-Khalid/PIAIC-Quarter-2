{
 "cells": [
  {
   "cell_type": "markdown",
   "metadata": {},
   "source": [
    "string user input\n",
    "len should be 2 to 8\n",
    "only 0 and 1\n",
    "if all zero invalid\n",
    "if other than 0, 1 invalid\n",
    "only one decimal is allowed (optional)\n"
   ]
  },
  {
   "cell_type": "code",
   "execution_count": 11,
   "metadata": {},
   "outputs": [],
   "source": [
    "def checker(value):\n",
    "    for each in value:\n",
    "        if each != \"0\" and each != \"1\":\n",
    "            print(\"Invalid String.\")\n",
    "            return 0\n",
    "    if len(value) < 2 or len(value) > 8:\n",
    "        print(\"Not reasonable\")\n",
    "        return 0\n",
    "    if \".\" in value:\n",
    "        if value.count(\".\") > 1:\n",
    "            print(\"Invalid Number.\")\n",
    "            return 0\n",
    "    else:\n",
    "        if value.count(\"0\") == len(value):\n",
    "            print(\"Not reasonable\")\n",
    "            return 0\n",
    "    print(\"Valid Expression\")"
   ]
  },
  {
   "cell_type": "code",
   "execution_count": 12,
   "metadata": {},
   "outputs": [
    {
     "name": "stdout",
     "output_type": "stream",
     "text": [
      "Enter a string : 000.0.\n",
      "Invalid String.\n"
     ]
    },
    {
     "data": {
      "text/plain": [
       "0"
      ]
     },
     "execution_count": 12,
     "metadata": {},
     "output_type": "execute_result"
    }
   ],
   "source": [
    "value = input(\"Enter a string : \")\n",
    "checker(value)"
   ]
  },
  {
   "cell_type": "code",
   "execution_count": 33,
   "metadata": {},
   "outputs": [
    {
     "name": "stdout",
     "output_type": "stream",
     "text": [
      "Enter any number : 15\n",
      "Not a prime number\n"
     ]
    }
   ],
   "source": [
    "number = int(input(\"Enter any number : \"))\n",
    "flag = True\n",
    "for x in range(2, number-1):\n",
    "    if number % x == 0:\n",
    "        print(\"Not a prime number\")\n",
    "        flag = False\n",
    "        break      \n",
    "\n",
    "if flag:\n",
    "    print(\"Its a prime number ... \")"
   ]
  },
  {
   "cell_type": "code",
   "execution_count": null,
   "metadata": {},
   "outputs": [],
   "source": []
  },
  {
   "cell_type": "code",
   "execution_count": null,
   "metadata": {},
   "outputs": [],
   "source": []
  }
 ],
 "metadata": {
  "kernelspec": {
   "display_name": "Python 3",
   "language": "python",
   "name": "python3"
  },
  "language_info": {
   "codemirror_mode": {
    "name": "ipython",
    "version": 3
   },
   "file_extension": ".py",
   "mimetype": "text/x-python",
   "name": "python",
   "nbconvert_exporter": "python",
   "pygments_lexer": "ipython3",
   "version": "3.7.3"
  }
 },
 "nbformat": 4,
 "nbformat_minor": 2
}
