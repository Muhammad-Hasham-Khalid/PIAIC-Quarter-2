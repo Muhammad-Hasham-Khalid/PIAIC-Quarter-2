{
 "cells": [
  {
   "cell_type": "code",
   "execution_count": 1,
   "metadata": {},
   "outputs": [
    {
     "name": "stdout",
     "output_type": "stream",
     "text": [
      "NumPy, short for Numerical Python, is one of the most important foundational packвЂђ\n",
      "ages for numerical computing in Python.\n",
      "-----\n",
      "Most computational packages providing\n",
      "scientific functionality use NumPyвЂ™s array objects as the lingua franca for data\n",
      "exchange.\n",
      "-----\n",
      "Here are some of the things youвЂ™ll find in NumPy:\n",
      "ndarray, an efficient multidimensional array providing fast array-oriented arithвЂђ\n",
      "metic operations and flexible broadcasting capabilities.\n",
      "-----\n",
      "Mathematical functions for fast operations on entire arrays of data without havвЂђ\n",
      "ing to write loops.\n",
      "-----\n",
      "Tools for reading/writing array data to disk and working with memory-mapped\n",
      "files.\n",
      "-----\n",
      "Linear algebra, random number generation, and Fourier transform capabilities.\n",
      "-----\n",
      "A C API for connecting NumPy with libraries written in C, C++, or FORTRAN.\n",
      "-----\n",
      "Because NumPy provides an easy-to-use C API, it is straightforward to pass data to\n",
      "external libraries written in a low-level language and also for external libraries to\n",
      "return data to Python as NumPy arrays.\n",
      "-----\n",
      "This feature has made Python a language of\n",
      "choice for wrapping legacy C/C++/Fortran codebases and giving them a dynamic and\n",
      "easy-to-use interface.\n"
     ]
    }
   ],
   "source": [
    "import nltk.data\n",
    "# nltk.download('punkt')\n",
    "with open(\"./../Files/sampleText.txt\", \"r+\", encoding=\"windows-1251\") as file:\n",
    "    text = file.read()\n",
    "sent_detector = nltk.data.load('tokenizers/punkt/english.pickle')\n",
    "print('\\n-----\\n'.join(sent_detector.tokenize(text.strip())))"
   ]
  },
  {
   "cell_type": "code",
   "execution_count": null,
   "metadata": {},
   "outputs": [],
   "source": []
  }
 ],
 "metadata": {
  "kernelspec": {
   "display_name": "Python 3",
   "language": "python",
   "name": "python3"
  },
  "language_info": {
   "codemirror_mode": {
    "name": "ipython",
    "version": 3
   },
   "file_extension": ".py",
   "mimetype": "text/x-python",
   "name": "python",
   "nbconvert_exporter": "python",
   "pygments_lexer": "ipython3",
   "version": "3.7.3"
  }
 },
 "nbformat": 4,
 "nbformat_minor": 2
}