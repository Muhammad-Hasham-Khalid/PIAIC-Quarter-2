{
 "cells": [
  {
   "cell_type": "markdown",
   "metadata": {},
   "source": [
    "## Data Analysis with Pandas\n",
    "### Data Cleaning and Preparation\n",
    "#### Handling Missing Data\n",
    "For numeric data, pandas uses the floating-point value NaN (Not a Number) to represent missing data"
   ]
  },
  {
   "cell_type": "code",
   "execution_count": 30,
   "metadata": {},
   "outputs": [
    {
     "name": "stdout",
     "output_type": "stream",
     "text": [
      "     a    b    c\n",
      "0  1.0  6.5  3.0\n",
      "1  1.0  NaN  NaN\n",
      "2  NaN  NaN  NaN\n",
      "3  NaN  6.5  3.0\n",
      "\n",
      "     a    b    c\n",
      "0  1.0  6.5  3.0\n",
      "1  1.0  NaN  NaN\n",
      "3  NaN  6.5  3.0\n"
     ]
    },
    {
     "data": {
      "text/html": [
       "<div>\n",
       "<style scoped>\n",
       "    .dataframe tbody tr th:only-of-type {\n",
       "        vertical-align: middle;\n",
       "    }\n",
       "\n",
       "    .dataframe tbody tr th {\n",
       "        vertical-align: top;\n",
       "    }\n",
       "\n",
       "    .dataframe thead th {\n",
       "        text-align: right;\n",
       "    }\n",
       "</style>\n",
       "<table border=\"1\" class=\"dataframe\">\n",
       "  <thead>\n",
       "    <tr style=\"text-align: right;\">\n",
       "      <th></th>\n",
       "      <th>a</th>\n",
       "      <th>b</th>\n",
       "      <th>c</th>\n",
       "    </tr>\n",
       "  </thead>\n",
       "  <tbody>\n",
       "    <tr>\n",
       "      <th>0</th>\n",
       "      <td>1.0</td>\n",
       "      <td>6.5</td>\n",
       "      <td>3.0</td>\n",
       "    </tr>\n",
       "    <tr>\n",
       "      <th>1</th>\n",
       "      <td>1.0</td>\n",
       "      <td>NaN</td>\n",
       "      <td>NaN</td>\n",
       "    </tr>\n",
       "    <tr>\n",
       "      <th>2</th>\n",
       "      <td>NaN</td>\n",
       "      <td>NaN</td>\n",
       "      <td>NaN</td>\n",
       "    </tr>\n",
       "    <tr>\n",
       "      <th>3</th>\n",
       "      <td>NaN</td>\n",
       "      <td>6.5</td>\n",
       "      <td>3.0</td>\n",
       "    </tr>\n",
       "  </tbody>\n",
       "</table>\n",
       "</div>"
      ],
      "text/plain": [
       "     a    b    c\n",
       "0  1.0  6.5  3.0\n",
       "1  1.0  NaN  NaN\n",
       "2  NaN  NaN  NaN\n",
       "3  NaN  6.5  3.0"
      ]
     },
     "execution_count": 30,
     "metadata": {},
     "output_type": "execute_result"
    }
   ],
   "source": [
    "import pandas as pd\n",
    "import numpy as np\n",
    "from numpy import nan as NA\n",
    "\n",
    "data = pd.DataFrame([[1., 6.5, 3.], [1., NA, NA], \n",
    "                     [NA, NA, NA], [NA, 6.5, 3.]], \n",
    "                    columns = list('abc'))\n",
    "print(data)\n",
    "cleaned = data.dropna(how='all')\n",
    "\n",
    "print() # blank line\n",
    "print(cleaned)\n",
    "\n",
    "#Passing how='all' will only drop rows that are all NA:\n",
    "data.dropna(how='all')\n",
    "\n",
    "# dropping columns that have all null values\n",
    "data.dropna(axis=1, how='all')"
   ]
  },
  {
   "cell_type": "code",
   "execution_count": 6,
   "metadata": {},
   "outputs": [
    {
     "name": "stdout",
     "output_type": "stream",
     "text": [
      "          0         1         2\n",
      "0 -0.720076       NaN       NaN\n",
      "1  0.143048       NaN       NaN\n",
      "2  1.463269       NaN  0.028639\n",
      "3 -1.470082       NaN  0.591926\n",
      "4 -1.137740 -0.535386 -0.061471\n",
      "5 -0.737829  0.950672 -0.348901\n",
      "6 -0.780326  0.689124  1.316234\n"
     ]
    },
    {
     "data": {
      "text/html": [
       "<div>\n",
       "<style scoped>\n",
       "    .dataframe tbody tr th:only-of-type {\n",
       "        vertical-align: middle;\n",
       "    }\n",
       "\n",
       "    .dataframe tbody tr th {\n",
       "        vertical-align: top;\n",
       "    }\n",
       "\n",
       "    .dataframe thead th {\n",
       "        text-align: right;\n",
       "    }\n",
       "</style>\n",
       "<table border=\"1\" class=\"dataframe\">\n",
       "  <thead>\n",
       "    <tr style=\"text-align: right;\">\n",
       "      <th></th>\n",
       "      <th>0</th>\n",
       "      <th>1</th>\n",
       "      <th>2</th>\n",
       "    </tr>\n",
       "  </thead>\n",
       "  <tbody>\n",
       "    <tr>\n",
       "      <th>0</th>\n",
       "      <td>-0.720076</td>\n",
       "      <td>-0.720076</td>\n",
       "      <td>NaN</td>\n",
       "    </tr>\n",
       "    <tr>\n",
       "      <th>1</th>\n",
       "      <td>0.143048</td>\n",
       "      <td>0.143048</td>\n",
       "      <td>NaN</td>\n",
       "    </tr>\n",
       "    <tr>\n",
       "      <th>2</th>\n",
       "      <td>1.463269</td>\n",
       "      <td>1.463269</td>\n",
       "      <td>0.028639</td>\n",
       "    </tr>\n",
       "    <tr>\n",
       "      <th>3</th>\n",
       "      <td>-1.470082</td>\n",
       "      <td>-1.470082</td>\n",
       "      <td>0.591926</td>\n",
       "    </tr>\n",
       "    <tr>\n",
       "      <th>4</th>\n",
       "      <td>-1.137740</td>\n",
       "      <td>-0.535386</td>\n",
       "      <td>-0.061471</td>\n",
       "    </tr>\n",
       "    <tr>\n",
       "      <th>5</th>\n",
       "      <td>-0.737829</td>\n",
       "      <td>0.950672</td>\n",
       "      <td>-0.348901</td>\n",
       "    </tr>\n",
       "    <tr>\n",
       "      <th>6</th>\n",
       "      <td>-0.780326</td>\n",
       "      <td>0.689124</td>\n",
       "      <td>1.316234</td>\n",
       "    </tr>\n",
       "  </tbody>\n",
       "</table>\n",
       "</div>"
      ],
      "text/plain": [
       "          0         1         2\n",
       "0 -0.720076 -0.720076       NaN\n",
       "1  0.143048  0.143048       NaN\n",
       "2  1.463269  1.463269  0.028639\n",
       "3 -1.470082 -1.470082  0.591926\n",
       "4 -1.137740 -0.535386 -0.061471\n",
       "5 -0.737829  0.950672 -0.348901\n",
       "6 -0.780326  0.689124  1.316234"
      ]
     },
     "execution_count": 6,
     "metadata": {},
     "output_type": "execute_result"
    }
   ],
   "source": [
    "#filling of data\n",
    "df = pd.DataFrame(np.random.randn(7, 3))\n",
    "#print(df)\n",
    "df.iloc[:4, 1] = NA\n",
    "df.iloc[:2, 2] = NA\n",
    "print(df)\n",
    "#Calling fillna with a dict, you can use a different fill value for each column:\n",
    "#df.fillna(1.5)\n",
    "\n",
    "# column number 1 will be filled with 0.5\n",
    "# column number 2 will be fileld with 0\n",
    "df.fillna({1: 0.5, 2: 0})\n",
    "\n",
    "# fill  not values from left column (axis=0 means from top row)\n",
    "df.fillna(method='ffill', axis = 1)\n",
    "df.fillna(method='ffill', limit=1, axis=1)"
   ]
  },
  {
   "cell_type": "markdown",
   "metadata": {},
   "source": [
    "### Removing Duplicates"
   ]
  },
  {
   "cell_type": "code",
   "execution_count": 7,
   "metadata": {},
   "outputs": [
    {
     "name": "stdout",
     "output_type": "stream",
     "text": [
      "    k1  k2    v1\n",
      "0  one   1   one\n",
      "1  two   1   two\n",
      "2  one   2   one\n",
      "3  two   3  four\n",
      "4  one   3   one\n",
      "5  two   4   six\n",
      "6  two   4   two\n"
     ]
    },
    {
     "data": {
      "text/html": [
       "<div>\n",
       "<style scoped>\n",
       "    .dataframe tbody tr th:only-of-type {\n",
       "        vertical-align: middle;\n",
       "    }\n",
       "\n",
       "    .dataframe tbody tr th {\n",
       "        vertical-align: top;\n",
       "    }\n",
       "\n",
       "    .dataframe thead th {\n",
       "        text-align: right;\n",
       "    }\n",
       "</style>\n",
       "<table border=\"1\" class=\"dataframe\">\n",
       "  <thead>\n",
       "    <tr style=\"text-align: right;\">\n",
       "      <th></th>\n",
       "      <th>k1</th>\n",
       "      <th>k2</th>\n",
       "      <th>v1</th>\n",
       "    </tr>\n",
       "  </thead>\n",
       "  <tbody>\n",
       "    <tr>\n",
       "      <th>0</th>\n",
       "      <td>one</td>\n",
       "      <td>1</td>\n",
       "      <td>one</td>\n",
       "    </tr>\n",
       "    <tr>\n",
       "      <th>1</th>\n",
       "      <td>two</td>\n",
       "      <td>1</td>\n",
       "      <td>two</td>\n",
       "    </tr>\n",
       "    <tr>\n",
       "      <th>3</th>\n",
       "      <td>two</td>\n",
       "      <td>3</td>\n",
       "      <td>four</td>\n",
       "    </tr>\n",
       "    <tr>\n",
       "      <th>5</th>\n",
       "      <td>two</td>\n",
       "      <td>4</td>\n",
       "      <td>six</td>\n",
       "    </tr>\n",
       "  </tbody>\n",
       "</table>\n",
       "</div>"
      ],
      "text/plain": [
       "    k1  k2    v1\n",
       "0  one   1   one\n",
       "1  two   1   two\n",
       "3  two   3  four\n",
       "5  two   4   six"
      ]
     },
     "execution_count": 7,
     "metadata": {},
     "output_type": "execute_result"
    }
   ],
   "source": [
    "import pandas as pd\n",
    "\n",
    "data = pd.DataFrame({'k1': ['one', 'two'] * 3 + ['two'],\n",
    "                     'k2': [1, 1, 2, 3, 3, 4, 4]} )\n",
    "#data.duplicated()\n",
    "#data.drop_duplicates()\n",
    "#\n",
    "data['v1'] = ['one', 'two', 'one', 'four', 'one', 'six', 'two']\n",
    "print(data)\n",
    "data = data.drop_duplicates(['k1', 'v1'])\n",
    "data"
   ]
  },
  {
   "cell_type": "markdown",
   "metadata": {},
   "source": [
    "### Replacing Values"
   ]
  },
  {
   "cell_type": "code",
   "execution_count": 8,
   "metadata": {},
   "outputs": [
    {
     "name": "stdout",
     "output_type": "stream",
     "text": [
      "          0         1         2\n",
      "0 -0.287648       NaN       NaN\n",
      "1 -0.042983       NaN       NaN\n",
      "2 -0.424758       NaN  0.632064\n",
      "3  1.040755       NaN -1.736480\n",
      "4  2.343429  0.427144  0.724180\n",
      "5 -0.644223 -0.836439 -0.642118\n",
      "6  0.087707 -0.330439 -1.886567\n",
      "          0           1           2\n",
      "0 -0.287648 -999.000000 -999.000000\n",
      "1 -0.042983 -999.000000 -999.000000\n",
      "2 -0.424758 -999.000000    0.632064\n",
      "3  1.040755 -999.000000   -1.736480\n",
      "4  2.343429    0.427144    0.724180\n",
      "5 -0.644223   -0.836439   -0.642118\n",
      "6  0.087707   -0.330439   -1.886567\n",
      "          0         1         2\n",
      "0 -0.287648 -9.000000 -9.000000\n",
      "1 -0.042983 -9.000000 -9.000000\n",
      "2 -0.424758 -9.000000  0.632064\n",
      "3  1.040755 -9.000000 -1.736480\n",
      "4  2.343429  0.427144  0.724180\n",
      "5 -0.644223 -0.836439 -0.642118\n",
      "6  0.087707 -0.330439 -1.886567\n"
     ]
    }
   ],
   "source": [
    "import pandas as pd\n",
    "import numpy as np\n",
    "\n",
    "df = pd.DataFrame(np.random.randn(7, 3))\n",
    "\n",
    "df.iloc[:4, 1] = np.nan\n",
    "df.iloc[:2, 2] = np.nan\n",
    "print(df)\n",
    "df = df.replace(np.nan , -999)\n",
    "print(df)\n",
    "df = df.replace(-999 , -9)\n",
    "#df =df.replace([-999, -9], [np.nan, 0])\n",
    "print(df)"
   ]
  },
  {
   "cell_type": "markdown",
   "metadata": {},
   "source": [
    "### Renaming Axis Indexes using function mapping"
   ]
  },
  {
   "cell_type": "code",
   "execution_count": 9,
   "metadata": {},
   "outputs": [
    {
     "name": "stdout",
     "output_type": "stream",
     "text": [
      "          one  two  three  four\n",
      "Ohio        0    1      2     3\n",
      "Colorado    4    5      6     7\n",
      "New York    8    9     10    11\n"
     ]
    },
    {
     "data": {
      "text/plain": [
       "Index(['OHIO', 'COLO', 'NEW '], dtype='object')"
      ]
     },
     "execution_count": 9,
     "metadata": {},
     "output_type": "execute_result"
    }
   ],
   "source": [
    "data = pd.DataFrame(np.arange(12).reshape((3, 4)),\n",
    "        index=['Ohio', 'Colorado', 'New York'],\n",
    "        columns=['one', 'two', 'three', 'four'])\n",
    "\n",
    "print(data)\n",
    "transform = lambda x: x[:4].upper()\n",
    "data.index.map(transform)"
   ]
  },
  {
   "cell_type": "code",
   "execution_count": 10,
   "metadata": {},
   "outputs": [
    {
     "name": "stdout",
     "output_type": "stream",
     "text": [
      "10 1000\n"
     ]
    },
    {
     "data": {
      "text/html": [
       "<div>\n",
       "<style scoped>\n",
       "    .dataframe tbody tr th:only-of-type {\n",
       "        vertical-align: middle;\n",
       "    }\n",
       "\n",
       "    .dataframe tbody tr th {\n",
       "        vertical-align: top;\n",
       "    }\n",
       "\n",
       "    .dataframe thead th {\n",
       "        text-align: right;\n",
       "    }\n",
       "</style>\n",
       "<table border=\"1\" class=\"dataframe\">\n",
       "  <thead>\n",
       "    <tr style=\"text-align: right;\">\n",
       "      <th></th>\n",
       "      <th>0</th>\n",
       "      <th>1</th>\n",
       "      <th>2</th>\n",
       "      <th>3</th>\n",
       "    </tr>\n",
       "  </thead>\n",
       "  <tbody>\n",
       "    <tr>\n",
       "      <th>10</th>\n",
       "      <td>1.448895</td>\n",
       "      <td>3.242666</td>\n",
       "      <td>1.705336</td>\n",
       "      <td>-0.531096</td>\n",
       "    </tr>\n",
       "    <tr>\n",
       "      <th>117</th>\n",
       "      <td>-0.633485</td>\n",
       "      <td>-1.170702</td>\n",
       "      <td>3.059993</td>\n",
       "      <td>-0.404410</td>\n",
       "    </tr>\n",
       "    <tr>\n",
       "      <th>226</th>\n",
       "      <td>1.434006</td>\n",
       "      <td>3.068012</td>\n",
       "      <td>0.125433</td>\n",
       "      <td>-1.172417</td>\n",
       "    </tr>\n",
       "    <tr>\n",
       "      <th>248</th>\n",
       "      <td>0.110774</td>\n",
       "      <td>3.067819</td>\n",
       "      <td>1.709872</td>\n",
       "      <td>0.774147</td>\n",
       "    </tr>\n",
       "    <tr>\n",
       "      <th>435</th>\n",
       "      <td>0.260165</td>\n",
       "      <td>-0.602672</td>\n",
       "      <td>-3.267263</td>\n",
       "      <td>-1.590939</td>\n",
       "    </tr>\n",
       "    <tr>\n",
       "      <th>558</th>\n",
       "      <td>-3.140283</td>\n",
       "      <td>0.236182</td>\n",
       "      <td>1.830974</td>\n",
       "      <td>-1.973887</td>\n",
       "    </tr>\n",
       "    <tr>\n",
       "      <th>620</th>\n",
       "      <td>0.532604</td>\n",
       "      <td>0.810778</td>\n",
       "      <td>-3.024595</td>\n",
       "      <td>0.811416</td>\n",
       "    </tr>\n",
       "    <tr>\n",
       "      <th>692</th>\n",
       "      <td>-0.205090</td>\n",
       "      <td>0.502045</td>\n",
       "      <td>0.097546</td>\n",
       "      <td>3.667912</td>\n",
       "    </tr>\n",
       "    <tr>\n",
       "      <th>865</th>\n",
       "      <td>-0.061348</td>\n",
       "      <td>-0.772691</td>\n",
       "      <td>1.389877</td>\n",
       "      <td>3.368684</td>\n",
       "    </tr>\n",
       "    <tr>\n",
       "      <th>948</th>\n",
       "      <td>-3.214936</td>\n",
       "      <td>-0.356615</td>\n",
       "      <td>-0.201745</td>\n",
       "      <td>0.757326</td>\n",
       "    </tr>\n",
       "  </tbody>\n",
       "</table>\n",
       "</div>"
      ],
      "text/plain": [
       "            0         1         2         3\n",
       "10   1.448895  3.242666  1.705336 -0.531096\n",
       "117 -0.633485 -1.170702  3.059993 -0.404410\n",
       "226  1.434006  3.068012  0.125433 -1.172417\n",
       "248  0.110774  3.067819  1.709872  0.774147\n",
       "435  0.260165 -0.602672 -3.267263 -1.590939\n",
       "558 -3.140283  0.236182  1.830974 -1.973887\n",
       "620  0.532604  0.810778 -3.024595  0.811416\n",
       "692 -0.205090  0.502045  0.097546  3.667912\n",
       "865 -0.061348 -0.772691  1.389877  3.368684\n",
       "948 -3.214936 -0.356615 -0.201745  0.757326"
      ]
     },
     "execution_count": 10,
     "metadata": {},
     "output_type": "execute_result"
    }
   ],
   "source": [
    "data = pd.DataFrame(np.random.randn(1000, 4))\n",
    "data.describe()\n",
    "col = data[2]\n",
    "#print(col)\n",
    "col[np.abs(col) > 3]\n",
    "#To select all rows having a value exceeding 3 or –3, \n",
    "#you can use the any method on a boolean DataFrame:\n",
    "outliers = data[(np.abs(data) > 3).any(1)]\n",
    "print(len(outliers), len(data))\n",
    "outliers\n",
    "# check the difference\n",
    "#print(data)\n",
    "#data[(np.abs(data) > 3)]"
   ]
  },
  {
   "cell_type": "markdown",
   "metadata": {},
   "source": [
    "### Permutation and Random Sampling"
   ]
  },
  {
   "cell_type": "code",
   "execution_count": 11,
   "metadata": {},
   "outputs": [
    {
     "name": "stdout",
     "output_type": "stream",
     "text": [
      "(5, 4)\n",
      "    0   1   2   3\n",
      "0   0   1   2   3\n",
      "1   4   5   6   7\n",
      "2   8   9  10  11\n",
      "3  12  13  14  15\n",
      "4  16  17  18  19\n"
     ]
    },
    {
     "data": {
      "text/html": [
       "<div>\n",
       "<style scoped>\n",
       "    .dataframe tbody tr th:only-of-type {\n",
       "        vertical-align: middle;\n",
       "    }\n",
       "\n",
       "    .dataframe tbody tr th {\n",
       "        vertical-align: top;\n",
       "    }\n",
       "\n",
       "    .dataframe thead th {\n",
       "        text-align: right;\n",
       "    }\n",
       "</style>\n",
       "<table border=\"1\" class=\"dataframe\">\n",
       "  <thead>\n",
       "    <tr style=\"text-align: right;\">\n",
       "      <th></th>\n",
       "      <th>0</th>\n",
       "      <th>1</th>\n",
       "      <th>2</th>\n",
       "      <th>3</th>\n",
       "    </tr>\n",
       "  </thead>\n",
       "  <tbody>\n",
       "    <tr>\n",
       "      <th>3</th>\n",
       "      <td>12</td>\n",
       "      <td>13</td>\n",
       "      <td>14</td>\n",
       "      <td>15</td>\n",
       "    </tr>\n",
       "    <tr>\n",
       "      <th>4</th>\n",
       "      <td>16</td>\n",
       "      <td>17</td>\n",
       "      <td>18</td>\n",
       "      <td>19</td>\n",
       "    </tr>\n",
       "    <tr>\n",
       "      <th>0</th>\n",
       "      <td>0</td>\n",
       "      <td>1</td>\n",
       "      <td>2</td>\n",
       "      <td>3</td>\n",
       "    </tr>\n",
       "    <tr>\n",
       "      <th>2</th>\n",
       "      <td>8</td>\n",
       "      <td>9</td>\n",
       "      <td>10</td>\n",
       "      <td>11</td>\n",
       "    </tr>\n",
       "    <tr>\n",
       "      <th>1</th>\n",
       "      <td>4</td>\n",
       "      <td>5</td>\n",
       "      <td>6</td>\n",
       "      <td>7</td>\n",
       "    </tr>\n",
       "  </tbody>\n",
       "</table>\n",
       "</div>"
      ],
      "text/plain": [
       "    0   1   2   3\n",
       "3  12  13  14  15\n",
       "4  16  17  18  19\n",
       "0   0   1   2   3\n",
       "2   8   9  10  11\n",
       "1   4   5   6   7"
      ]
     },
     "execution_count": 11,
     "metadata": {},
     "output_type": "execute_result"
    }
   ],
   "source": [
    "# Permuting (randomly reordering)\n",
    "# a Series or the rows in a DataFrame\n",
    "df = pd.DataFrame(np.arange(5 * 4).reshape((5, 4)))\n",
    "print( df.shape )\n",
    "sampler = np.random.permutation(5)\n",
    "#data[sampler]\n",
    "#print(sampler)\n",
    "print(df)\n",
    "df.take(sampler)"
   ]
  },
  {
   "cell_type": "markdown",
   "metadata": {},
   "source": [
    "## Regular Expressions\n",
    "When you call re.split('\\s+', text) , the regular expression is first compiled, and then its split method is called on the passed text. You can compile the regex yourself with re.compile , forming a reusable regex object:"
   ]
  },
  {
   "cell_type": "code",
   "execution_count": 12,
   "metadata": {},
   "outputs": [
    {
     "data": {
      "text/plain": [
       "['foo', 'bar', 'baz', 'qux']"
      ]
     },
     "execution_count": 12,
     "metadata": {},
     "output_type": "execute_result"
    }
   ],
   "source": [
    "import re\n",
    "text = \"foo    bar\\t baz \\tqux\"\n",
    "#normal split = text.spli()\n",
    "re.split('\\s+', text)\n",
    "['foo', 'bar', 'baz', 'qux']\n",
    "# compile once to use again and again and save time\n",
    "rgx = re.compile('\\s+')\n",
    "rgx.split(text)"
   ]
  },
  {
   "cell_type": "markdown",
   "metadata": {},
   "source": [
    "### Vectorized String Functions in pandas"
   ]
  },
  {
   "cell_type": "code",
   "execution_count": 13,
   "metadata": {},
   "outputs": [
    {
     "data": {
      "text/plain": [
       "0          simpleEmail@email.com\n",
       "1         simple.email@email.com\n",
       "2          plus+symbol@email.com\n",
       "3          dash-symbol@email.com\n",
       "4                    q@email.com\n",
       "6     dash-symbol@email-dash.com\n",
       "11           example@s.solutions\n",
       "12               12345@email.com\n",
       "dtype: object"
      ]
     },
     "execution_count": 13,
     "metadata": {},
     "output_type": "execute_result"
    }
   ],
   "source": [
    "import re\n",
    "import pandas as pd\n",
    "import numpy as np\n",
    "data = {'Dave': 'dave@google.com', 'Steve': 'steve@gmail.com',\n",
    "'Rob': 'rob@gmail.com', 'Wes': np.nan}\n",
    "data = [\"simpleEmail@email.com\",   \"simple.email@email.com\",  \n",
    "        \"plus+symbol@email.com\",   \"dash-symbol@email.com\",  \n",
    "     \"q@email.com\",   \n",
    "    \"“unusual”@email.com\",   \"dash-symbol@email-dash.com\",   \"test@emailServer\",  \n",
    "  \"” “@email.com\",   \"user@[IPv6:2001:DB8::1]\",   \n",
    "  \"example@localhost\",   \"example@s.solutions\",   \n",
    "  \"12345@email.com\"]   \n",
    "\n",
    "data = pd.Series(data)\n",
    "pattern = '([A-Z0-9._%+-]+)@([A-Z0-9.-]+)\\\\.([A-Z]{2,4})'\n",
    "#data.str.findall(pattern, flags=re.IGNORECASE)\n",
    "matches = data[data.str.match(pattern, flags=re.IGNORECASE)]\n",
    "matches"
   ]
  },
  {
   "cell_type": "code",
   "execution_count": 35,
   "metadata": {},
   "outputs": [
    {
     "data": {
      "text/plain": [
       "1st  a  1    1.383253\n",
       "        2    0.497919\n",
       "        3   -0.295452\n",
       "     b  1   -1.034369\n",
       "        3    0.135096\n",
       "2nd  c  1   -0.309394\n",
       "        2    1.153602\n",
       "     d  2    1.835414\n",
       "        3   -0.132063\n",
       "dtype: float64"
      ]
     },
     "execution_count": 35,
     "metadata": {},
     "output_type": "execute_result"
    }
   ],
   "source": [
    "# 8.1 Hierarchical Indexing\n",
    "# Join, Combining and Reshape Data Frames\n",
    "# Data Analysis with Pandas\n",
    "\n",
    "data = pd.Series(np.random.randn(9),\n",
    "                index=\n",
    "                 [\n",
    "                    ['1st','1st','1st','1st','1st','2nd','2nd','2nd','2nd',],\n",
    "                    ['a', 'a', 'a', 'b', 'b', 'c', 'c', 'd', 'd'],\n",
    "                    [1, 2, 3, 1, 3, 1, 2, 2, 3]\n",
    "                ])\n",
    "data"
   ]
  },
  {
   "cell_type": "code",
   "execution_count": 40,
   "metadata": {},
   "outputs": [
    {
     "data": {
      "text/plain": [
       "1  a  1st    1.383253\n",
       "   b  1st   -1.034369\n",
       "   c  2nd   -0.309394\n",
       "2  a  1st    0.497919\n",
       "   c  2nd    1.153602\n",
       "   d  2nd    1.835414\n",
       "3  a  1st   -0.295452\n",
       "   b  1st    0.135096\n",
       "   d  2nd   -0.132063\n",
       "dtype: float64"
      ]
     },
     "execution_count": 40,
     "metadata": {},
     "output_type": "execute_result"
    }
   ],
   "source": [
    "data.swaplevel(0, 2, 1).sort_index(level = 0)"
   ]
  },
  {
   "cell_type": "code",
   "execution_count": 46,
   "metadata": {},
   "outputs": [],
   "source": []
  },
  {
   "cell_type": "code",
   "execution_count": 45,
   "metadata": {},
   "outputs": [],
   "source": []
  },
  {
   "cell_type": "code",
   "execution_count": null,
   "metadata": {},
   "outputs": [],
   "source": []
  }
 ],
 "metadata": {
  "file_extension": ".py",
  "kernelspec": {
   "display_name": "Python 3",
   "language": "python",
   "name": "python3"
  },
  "language_info": {
   "codemirror_mode": {
    "name": "ipython",
    "version": 3
   },
   "file_extension": ".py",
   "mimetype": "text/x-python",
   "name": "python",
   "nbconvert_exporter": "python",
   "pygments_lexer": "ipython3",
   "version": "3.7.3"
  },
  "mimetype": "text/x-python",
  "name": "python",
  "npconvert_exporter": "python",
  "pygments_lexer": "ipython3",
  "version": 3
 },
 "nbformat": 4,
 "nbformat_minor": 2
}
