{
 "cells": [
  {
   "cell_type": "code",
   "execution_count": 1,
   "metadata": {},
   "outputs": [],
   "source": [
    "import numpy as np\n",
    "# import pandas as pd\n",
    "# import matplotlib.pyplot as plt"
   ]
  },
  {
   "cell_type": "code",
   "execution_count": 6,
   "metadata": {},
   "outputs": [
    {
     "name": "stdout",
     "output_type": "stream",
     "text": [
      "[2 4 6 8]\n"
     ]
    }
   ],
   "source": [
    "npList = np.array([1, 2, 3, 4])\n",
    "npList = npList * 2\n",
    "print(npList)"
   ]
  },
  {
   "cell_type": "code",
   "execution_count": 7,
   "metadata": {
    "scrolled": true
   },
   "outputs": [
    {
     "name": "stdout",
     "output_type": "stream",
     "text": [
      "0x1a1a2143bb8\n",
      "0x1a1a2143bb8\n",
      "0x1a1a2143bb8\n",
      "0x1a1a2143bb8\n"
     ]
    }
   ],
   "source": [
    "print(hex(id(npList[0])))\n",
    "print(hex(id(npList[1])))\n",
    "print(hex(id(npList[2])))\n",
    "print(hex(id(npList[3])))\n",
    "\n",
    "# All elements are at the same position ... "
   ]
  },
  {
   "cell_type": "markdown",
   "metadata": {},
   "source": [
    "### How to check number of lines in a csv file ?"
   ]
  },
  {
   "cell_type": "code",
   "execution_count": 8,
   "metadata": {},
   "outputs": [
    {
     "name": "stdout",
     "output_type": "stream",
     "text": [
      "Np Zero :\n",
      " [0. 0. 0. 0. 0.]\n",
      "Np Zeros :\n",
      " [[[[0. 0. 0. 0.]\n",
      "   [0. 0. 0. 0.]\n",
      "   [0. 0. 0. 0.]]\n",
      "\n",
      "  [[0. 0. 0. 0.]\n",
      "   [0. 0. 0. 0.]\n",
      "   [0. 0. 0. 0.]]]]\n",
      "Np One :\n",
      " [1. 1. 1. 1. 1. 1.]\n",
      "__________________________\n",
      "\n",
      "Shape of npZeros : (1, 2, 3, 4)\n",
      "Dimension of npZeros : 4\n",
      "Data Type of npZeros : float64\n"
     ]
    }
   ],
   "source": [
    "npZero = np.zeros(5)  #if next operation is addition as zero is additive identity\n",
    "npZeros = np.zeros([1,2,3,4]) # Multi-dimensional zero array\n",
    "npOne = np.ones(6)    #if next operation is multiplication as one is multiplicative identity\n",
    "print(\"Np Zero :\\n\", npZero)\n",
    "print(\"Np Zeros :\\n\", npZeros)\n",
    "print(\"Np One :\\n\", npOne)\n",
    "\n",
    "print(\"__________________________\\n\")\n",
    "print(\"Shape of npZeros :\", npZeros.shape)\n",
    "print(\"Dimension of npZeros :\", npZeros.ndim)\n",
    "print(\"Data Type of npZeros :\", npZeros.dtype)"
   ]
  },
  {
   "cell_type": "code",
   "execution_count": 9,
   "metadata": {},
   "outputs": [
    {
     "name": "stdout",
     "output_type": "stream",
     "text": [
      "[1. 1. 1. 1. 1. 1.]\n",
      "[0 1 2 3 4]\n"
     ]
    }
   ],
   "source": [
    "npEmpty = np.empty(6) # produces an array of garbage values \n",
    "npArange = np.arange(0, 5, 1)\n",
    "print(npEmpty)\n",
    "print(npArange)"
   ]
  },
  {
   "cell_type": "markdown",
   "metadata": {},
   "source": [
    "### Attributes Of Numpy Array :\n",
    "- Shape : A tuple indicating the size of each dimension\n",
    "- dtype : An object describing the data type of the array\n",
    "- ndim : the number of dimensions of the array"
   ]
  },
  {
   "cell_type": "code",
   "execution_count": 10,
   "metadata": {},
   "outputs": [
    {
     "name": "stdout",
     "output_type": "stream",
     "text": [
      "[1 1 1 1 1]\n"
     ]
    }
   ],
   "source": [
    "npOneInt = np.ones(5, dtype = int)\n",
    "print(npOneInt)"
   ]
  },
  {
   "cell_type": "code",
   "execution_count": 11,
   "metadata": {},
   "outputs": [
    {
     "data": {
      "text/plain": [
       "6.0"
      ]
     },
     "execution_count": 11,
     "metadata": {},
     "output_type": "execute_result"
    }
   ],
   "source": [
    "sum(npEmpty)"
   ]
  },
  {
   "cell_type": "code",
   "execution_count": 12,
   "metadata": {},
   "outputs": [
    {
     "data": {
      "text/plain": [
       "array([[0., 0., 0., 0., 0., 0., 0., 0., 0., 0., 0., 0.],\n",
       "       [0., 0., 0., 0., 0., 0., 0., 0., 0., 0., 0., 0.]])"
      ]
     },
     "execution_count": 12,
     "metadata": {},
     "output_type": "execute_result"
    }
   ],
   "source": [
    "npZeros.reshape(2,12)"
   ]
  },
  {
   "cell_type": "code",
   "execution_count": 13,
   "metadata": {},
   "outputs": [
    {
     "name": "stdout",
     "output_type": "stream",
     "text": [
      "[2, 4, 6, 8]\n"
     ]
    }
   ],
   "source": [
    "myList = [1, 2, 3, 4]\n",
    "myList = [each*2 for each in myList]\n",
    "print(myList)"
   ]
  },
  {
   "cell_type": "markdown",
   "metadata": {},
   "source": [
    "## Assignment"
   ]
  },
  {
   "cell_type": "code",
   "execution_count": 14,
   "metadata": {},
   "outputs": [
    {
     "name": "stdout",
     "output_type": "stream",
     "text": [
      "['NumPy,' 'short' 'for' 'Numerical' 'Python,' 'is' 'one' 'of' 'the' 'most'\n",
      " 'important' 'foundational' 'packвЂђ' 'ages' 'for' 'numerical' 'computing'\n",
      " 'in' 'Python.' 'Most' 'computational' 'packages' 'providing' 'scientific'\n",
      " 'functionality' 'use' 'NumPyвЂ™s' 'array' 'objects' 'as' 'the' 'lingua'\n",
      " 'franca' 'for' 'data' 'exchange.' 'Here' 'are' 'some' 'of' 'the' 'things'\n",
      " 'youвЂ™ll' 'find' 'in' 'NumPy:' 'ndarray,' 'an' 'efficient'\n",
      " 'multidimensional' 'array' 'providing' 'fast' 'array-oriented' 'arithвЂђ'\n",
      " 'metic' 'operations' 'and' 'flexible' 'broadcasting' 'capabilities.'\n",
      " 'Mathematical' 'functions' 'for' 'fast' 'operations' 'on' 'entire'\n",
      " 'arrays' 'of' 'data' 'without' 'havвЂђ' 'ing' 'to' 'write' 'loops.'\n",
      " 'Tools' 'for' 'reading/writing' 'array' 'data' 'to' 'disk' 'and'\n",
      " 'working' 'with' 'memory-mapped' 'files.' 'Linear' 'algebra,' 'random'\n",
      " 'number' 'generation,' 'and' 'Fourier' 'transform' 'capabilities.' 'A'\n",
      " 'C' 'API' 'for' 'connecting' 'NumPy' 'with' 'libraries' 'written' 'in'\n",
      " 'C,' 'C++,' 'or' 'FORTRAN.' 'Because' 'NumPy' 'provides' 'an'\n",
      " 'easy-to-use' 'C' 'API,' 'it' 'is' 'straightforward' 'to' 'pass' 'data'\n",
      " 'to' 'external' 'libraries' 'written' 'in' 'a' 'low-level' 'language'\n",
      " 'and' 'also' 'for' 'external' 'libraries' 'to' 'return' 'data' 'to'\n",
      " 'Python' 'as' 'NumPy' 'arrays.' 'This' 'feature' 'has' 'made' 'Python'\n",
      " 'a' 'language' 'of' 'choice' 'for' 'wrapping' 'legacy' 'C/C++/Fortran'\n",
      " 'codebases' 'and' 'giving' 'them' 'a' 'dynamic' 'and' 'easy-to-use'\n",
      " 'interface.']\n",
      "168\n"
     ]
    }
   ],
   "source": [
    "with open(\"../Files/sampleText.txt\", \"r\", encoding=\"windows-1251\") as f:\n",
    "    np_data = np.array(f.read().split())\n",
    "print(np_data)\n",
    "print(np_data.size)"
   ]
  },
  {
   "cell_type": "code",
   "execution_count": 15,
   "metadata": {},
   "outputs": [
    {
     "name": "stdout",
     "output_type": "stream",
     "text": [
      "[[ 6  7  8  9 10]\n",
      " [ 2  4  6  8 10]] \n",
      "\n",
      "[[ 6 14 24 36 50]\n",
      " [ 1  4  9 16 25]]\n"
     ]
    }
   ],
   "source": [
    "array1 = np.array([[1],[2]])\n",
    "array2 = np.array([1,2,3,4,5])\n",
    "array3 = np.array([[6,7,8,9,10],[1,2,3,4,5]])\n",
    "print(array1 * array3,'\\n')\n",
    "print(array2 * array3)"
   ]
  },
  {
   "cell_type": "markdown",
   "metadata": {},
   "source": [
    "- if we have the shorter array's any one dimension equal to the dimension of the larger array then broadcasting will be performed\n",
    "- Check out the input and then check the output and have some function's behaviourial study"
   ]
  },
  {
   "cell_type": "code",
   "execution_count": 16,
   "metadata": {},
   "outputs": [],
   "source": [
    "text = \"How dare you! Can't you do that? U.N.O. stands for \\\"United Nations Organization\\\", here we will practice.\""
   ]
  },
  {
   "cell_type": "markdown",
   "metadata": {},
   "source": [
    "### Assignment : Study NLTK library"
   ]
  },
  {
   "cell_type": "code",
   "execution_count": 17,
   "metadata": {},
   "outputs": [
    {
     "name": "stdout",
     "output_type": "stream",
     "text": [
      "['for' 'is' 'one' 'of' 'the' 'most' 'ages' 'for' 'in' 'Most' 'use' 'as'\n",
      " 'the' 'for' 'data' 'Here' 'are' 'some' 'of' 'the' 'find' 'in' 'an' 'fast'\n",
      " 'and' 'for' 'fast' 'on' 'of' 'data' 'ing' 'to' 'for' 'data' 'to' 'disk'\n",
      " 'and' 'with' 'and' 'A' 'C' 'API' 'for' 'with' 'in' 'C,' 'C++,' 'or' 'an'\n",
      " 'C' 'API,' 'it' 'is' 'to' 'pass' 'data' 'to' 'in' 'a' 'and' 'also' 'for'\n",
      " 'to' 'data' 'to' 'as' 'This' 'has' 'made' 'a' 'of' 'for' 'and' 'them' 'a'\n",
      " 'and']\n"
     ]
    }
   ],
   "source": [
    "print(np.array([each for each in np_data if len(each)<5]))"
   ]
  },
  {
   "cell_type": "code",
   "execution_count": 18,
   "metadata": {},
   "outputs": [
    {
     "name": "stdout",
     "output_type": "stream",
     "text": [
      "['for' 'is' 'one' 'of' 'the' 'most' 'ages' 'for' 'in' 'Most' 'use' 'as'\n",
      " 'the' 'for' 'data' 'Here' 'are' 'some' 'of' 'the' 'find' 'in' 'an' 'fast'\n",
      " 'and' 'for' 'fast' 'on' 'of' 'data' 'ing' 'to' 'for' 'data' 'to' 'disk'\n",
      " 'and' 'with' 'and' 'A' 'C' 'API' 'for' 'with' 'in' 'C,' 'C++,' 'or' 'an'\n",
      " 'C' 'API,' 'it' 'is' 'to' 'pass' 'data' 'to' 'in' 'a' 'and' 'also' 'for'\n",
      " 'to' 'data' 'to' 'as' 'This' 'has' 'made' 'a' 'of' 'for' 'and' 'them' 'a'\n",
      " 'and']\n"
     ]
    }
   ],
   "source": [
    "length = np.vectorize(len)\n",
    "print(np_data[length(np_data) < 5]) "
   ]
  },
  {
   "cell_type": "code",
   "execution_count": 19,
   "metadata": {},
   "outputs": [
    {
     "name": "stdout",
     "output_type": "stream",
     "text": [
      "['for' 'is' 'one' 'of' 'the' 'most' 'ages' 'for' 'in' 'Most' 'use' 'as'\n",
      " 'the' 'for' 'data' 'Here' 'are' 'some' 'of' 'the' 'find' 'in' 'an' 'fast'\n",
      " 'and' 'for' 'fast' 'on' 'of' 'data' 'ing' 'to' 'for' 'data' 'to' 'disk'\n",
      " 'and' 'with' 'and' 'A' 'C' 'API' 'for' 'with' 'in' 'C,' 'C++,' 'or' 'an'\n",
      " 'C' 'API,' 'it' 'is' 'to' 'pass' 'data' 'to' 'in' 'a' 'and' 'also' 'for'\n",
      " 'to' 'data' 'to' 'as' 'This' 'has' 'made' 'a' 'of' 'for' 'and' 'them' 'a'\n",
      " 'and']\n"
     ]
    }
   ],
   "source": [
    "print(np_data[np.vectorize(len)(np_data)<5]) # direct method "
   ]
  },
  {
   "cell_type": "code",
   "execution_count": 20,
   "metadata": {},
   "outputs": [
    {
     "data": {
      "text/plain": [
       "array(['Python,', 'Numerical', 'NumPy,', 'one'], dtype='<U16')"
      ]
     },
     "execution_count": 20,
     "metadata": {},
     "output_type": "execute_result"
    }
   ],
   "source": [
    "# Fancy indexing\n",
    "np_data[[4, 3, 0, 6]] # it returns the certain indices"
   ]
  },
  {
   "cell_type": "code",
   "execution_count": 21,
   "metadata": {},
   "outputs": [],
   "source": [
    "# Slicing\n",
    "# -start : end : step"
   ]
  },
  {
   "attachments": {
    "image.png": {
     "image/png": "[encoded data removed]"
    }
   },
   "cell_type": "markdown",
   "metadata": {},
   "source": [
    "### np.where() :\n",
    "![image.png](attachment:image.png)"
   ]
  },
  {
   "cell_type": "code",
   "execution_count": 22,
   "metadata": {},
   "outputs": [
    {
     "name": "stdout",
     "output_type": "stream",
     "text": [
      "[ 22000  22000  25000  50000 100000]\n"
     ]
    }
   ],
   "source": [
    "salary = np.array([20000, 15000, 25000, 50000, 100000])\n",
    "print(np.where(salary <= 20000, 22000, salary)) # something similar to ternary operator"
   ]
  },
  {
   "cell_type": "markdown",
   "metadata": {},
   "source": [
    "- save \n",
    "- load\n",
    "- savez\n",
    "- .npz\n",
    "- .npy\n",
    "- cumsum cumprod\n"
   ]
  },
  {
   "cell_type": "code",
   "execution_count": 23,
   "metadata": {},
   "outputs": [
    {
     "name": "stdout",
     "output_type": "stream",
     "text": [
      "[[ 1  2  3  7  8]\n",
      " [ 4  5  6  9 10]]\n"
     ]
    }
   ],
   "source": [
    "a = np.array([[1,2,3],[4,5,6]])\n",
    "b = np.array([7,8,9])\n",
    "c = np.array([[7,8],[9,10]])\n",
    "# print(np.concatenate([a,b],axis=0))\n",
    "print(np.concatenate([a,c],axis=1))"
   ]
  },
  {
   "cell_type": "code",
   "execution_count": 29,
   "metadata": {
    "scrolled": true
   },
   "outputs": [
    {
     "name": "stdout",
     "output_type": "stream",
     "text": [
      "0 - [0 1]\n",
      "1 - [2 3 4]\n",
      "2 - [5 6]\n",
      "3 - [ 7  8  9 10]\n"
     ]
    }
   ],
   "source": [
    "split = np.array([0,1,2,3,4,5,6,7,8,9,10])\n",
    "splitted = np.split(split, [2,5,7])\n",
    "for index, each in enumerate(splitted):\n",
    "    print(index, \"-\", each)"
   ]
  },
  {
   "cell_type": "markdown",
   "metadata": {},
   "source": [
    "### Slicing of Multi-dimensional array : "
   ]
  },
  {
   "cell_type": "code",
   "execution_count": 25,
   "metadata": {
    "scrolled": true
   },
   "outputs": [
    {
     "name": "stdout",
     "output_type": "stream",
     "text": [
      "[list([11, 12, 13]) 2 3 4]\n",
      "Ndim : 1 \n",
      "Nshape : (4,)\n"
     ]
    }
   ],
   "source": [
    "ndArray = np.array([[11, 12, 13], 2, 3, 4] )\n",
    "print(ndArray)\n",
    "print(\"Ndim :\", ndArray.ndim,\"\\nNshape :\", ndArray.shape)"
   ]
  },
  {
   "cell_type": "code",
   "execution_count": null,
   "metadata": {},
   "outputs": [],
   "source": [
    "# http://scipy-lectures.org/advanced/image_processing/"
   ]
  }
 ],
 "metadata": {
  "kernelspec": {
   "display_name": "Python 3",
   "language": "python",
   "name": "python3"
  },
  "language_info": {
   "codemirror_mode": {
    "name": "ipython",
    "version": 3
   },
   "file_extension": ".py",
   "mimetype": "text/x-python",
   "name": "python",
   "nbconvert_exporter": "python",
   "pygments_lexer": "ipython3",
   "version": "3.7.3"
  }
 },
 "nbformat": 4,
 "nbformat_minor": 2
}