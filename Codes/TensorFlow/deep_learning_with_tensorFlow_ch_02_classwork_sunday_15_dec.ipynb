{
 "cells": [
  {
   "cell_type": "code",
   "execution_count": 2,
   "metadata": {},
   "outputs": [],
   "source": [
    "import numpy as np\n",
    "import matplotlib.pyplot as plt"
   ]
  },
  {
   "cell_type": "code",
   "execution_count": 135,
   "metadata": {},
   "outputs": [
    {
     "name": "stdout",
     "output_type": "stream",
     "text": [
      " slope values [2.         1.5        1.33333333 1.125      1.        ]\n",
      "average slope 1.3916666666666666\n",
      " for x= 3   4.175\n",
      " for x= 2   2.783333333333333\n"
     ]
    }
   ],
   "source": [
    "X = np.array( [2, 4, 6,8, 10] )\n",
    "Y = np.array([4,6,8,9,10 ] )\n",
    "#X = np.array([2, 3, 4, 5,  6,  7,  8,  9, 10, 11 ])\n",
    "#Y = np.array([60,70,80,85, 90, 93, 95, 96,97, 97])\n",
    "# y = mx +b\n",
    "# m =  (y -b)/x\n",
    "# m = y/x if b = 0\n",
    "\n",
    "M=Y/X # taking advantage of numpy Tensor operations support\n",
    "print(\" slope values\", M)\n",
    "slope = M.mean()\n",
    "print(\"average slope\", slope)\n",
    "\n",
    "x = 3\n",
    "y = slope * x \n",
    "print(\" for x=\",x,\" \", y)\n",
    "x = 2\n",
    "y = slope *x\n",
    "print(\" for x=\",x,\" \", y)"
   ]
  },
  {
   "cell_type": "code",
   "execution_count": 136,
   "metadata": {},
   "outputs": [
    {
     "name": "stdout",
     "output_type": "stream",
     "text": [
      "1.3916666666666666\n",
      "[ 4  6  8  9 10]\n",
      "[ 5.56666667  8.35       11.13333333 12.525      13.91666667]\n"
     ]
    },
    {
     "data": {
      "image/png": "[encoded data removed]",
      "text/plain": [
       "<Figure size 432x288 with 1 Axes>"
      ]
     },
     "metadata": {},
     "output_type": "display_data"
    }
   ],
   "source": [
    "plt.scatter(X,Y)\n",
    "start = X[0]\n",
    "end  =X[-1]\n",
    "print(slope)\n",
    "print(Y)\n",
    "new_y =  Y* slope\n",
    "print(new_y)\n",
    "#plt.scatter(new_x,new_y)\n",
    "line_x = np.linspace(start,end, 10)\n",
    "line_y = line_x * slope\n",
    "plt.plot(line_x, line_y)\n",
    "\n",
    "plt.show()\n"
   ]
  },
  {
   "cell_type": "code",
   "execution_count": 139,
   "metadata": {},
   "outputs": [
    {
     "name": "stdout",
     "output_type": "stream",
     "text": [
      "1.3916666666666666\n",
      "0.9940476190476191\n",
      "new_x 10 new_y0 13.916666666666666 new_y1 11.24047619047619\n"
     ]
    },
    {
     "data": {
      "image/png": "[encoded data removed]",
      "text/plain": [
       "<Figure size 432x288 with 1 Axes>"
      ]
     },
     "metadata": {},
     "output_type": "display_data"
    }
   ],
   "source": [
    "\n",
    "\n",
    "plt.scatter(X,Y)\n",
    "start = X[0]\n",
    "end  =X[-1]\n",
    "x = np.linspace(start, end, 100)\n",
    "print(slope)\n",
    "new_slope = (slope /1.4)\n",
    "b = 1.3\n",
    "new_x =10 \n",
    "print(new_slope)\n",
    "new_y1 = new_x * new_slope +b\n",
    "new_y0 = new_x *slope\n",
    "print(\"new_x\", new_x, \"new_y0\",new_y0, \"new_y1\",new_y1)\n",
    "\n",
    "y = x * new_slope + b\n",
    "plt.plot(x,y)\n",
    "plt.show()"
   ]
  },
  {
   "cell_type": "code",
   "execution_count": 142,
   "metadata": {},
   "outputs": [
    {
     "name": "stderr",
     "output_type": "stream",
     "text": [
      "/tools/anaconda3/lib/python3.6/site-packages/h5py/__init__.py:36: FutureWarning: Conversion of the second argument of issubdtype from `float` to `np.floating` is deprecated. In future, it will be treated as `np.float64 == np.dtype(float).type`.\n",
      "  from ._conv import register_converters as _register_converters\n"
     ]
    },
    {
     "name": "stdout",
     "output_type": "stream",
     "text": [
      "[[0. 1. 0. 0. 0.]\n",
      " [0. 0. 1. 0. 0.]\n",
      " [0. 0. 0. 1. 0.]\n",
      " [0. 0. 0. 0. 1.]]\n"
     ]
    }
   ],
   "source": [
    "from  tensorflow.keras.utils import to_categorical\n",
    "import numpy as np\n",
    "a = [1,2,3,4]\n",
    "print(to_categorical(a) )"
   ]
  },
  {
   "cell_type": "code",
   "execution_count": 78,
   "metadata": {},
   "outputs": [
    {
     "name": "stdout",
     "output_type": "stream",
     "text": [
      "1.0\n",
      "1.0\n"
     ]
    }
   ],
   "source": [
    "oh_m = np.zeros(128);\n",
    "oh_m[12] =1\n",
    "oh_a = np.zeros(128);\n",
    "oh_a[0] =1\n",
    "print(np.sum(oh_a))\n",
    "print(np.sum(oh_m))"
   ]
  },
  {
   "cell_type": "code",
   "execution_count": 141,
   "metadata": {},
   "outputs": [
    {
     "name": "stdout",
     "output_type": "stream",
     "text": [
      "[[ 7  9 11 13]\n",
      " [ 6  8 10 12]]\n"
     ]
    }
   ],
   "source": [
    "import numpy as np\n",
    "def naive_add(x, y):\n",
    "    assert len(x.shape) == 2\n",
    "    assert x.shape == y.shape\n",
    "    x = x.copy()\n",
    "    for i in range(x.shape[0]):\n",
    "        for j in range(x.shape[1]):\n",
    "            x[i, j] += y[i, j]\n",
    "    return x\n",
    "\n",
    "X = np.array( [[1,2,3,4], [1,2,3,4]] )\n",
    "Y = np.array([[6,7,8,9], [5,6,7,8]])\n",
    "z = naive_add(X,Y)\n",
    "print(z)"
   ]
  },
  {
   "cell_type": "code",
   "execution_count": null,
   "metadata": {},
   "outputs": [],
   "source": []
  }
 ],
 "metadata": {
  "kernelspec": {
   "display_name": "Python 3",
   "language": "python",
   "name": "python3"
  },
  "language_info": {
   "codemirror_mode": {
    "name": "ipython",
    "version": 3
   },
   "file_extension": ".py",
   "mimetype": "text/x-python",
   "name": "python",
   "nbconvert_exporter": "python",
   "pygments_lexer": "ipython3",
   "version": "3.6.9"
  }
 },
 "nbformat": 4,
 "nbformat_minor": 2
}
